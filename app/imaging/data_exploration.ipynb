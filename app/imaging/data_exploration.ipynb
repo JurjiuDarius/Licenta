{
 "cells": [
  {
   "cell_type": "code",
   "execution_count": null,
   "metadata": {},
   "outputs": [
    {
     "ename": "",
     "evalue": "",
     "output_type": "error",
     "traceback": [
      "\u001b[1;31mFailed to start the Kernel. \n",
      "\u001b[1;31mUnable to start Kernel 'backend (Python 3.9.13)' due to a connection timeout. \n",
      "\u001b[1;31mView Jupyter <a href='command:jupyter.viewOutput'>log</a> for further details."
     ]
    }
   ],
   "source": [
    "import os\n",
    "import numpy as np\n",
    "import matplotlib.pyplot as plt\n",
    "import cv2\n",
    "\n",
    "IMAGE_DIR = \"../../../data/Images\"\n",
    "SEG1_DIR = \"../../../data/Segmentation1\"\n",
    "SEG2_DIR = \"../../../data/Segmentation2\"\n",
    "\n",
    "image_dirs = {\"raw\":IMAGE_DIR, \"seg1\":SEG1_DIR, \"seg2\":SEG2_DIR}\n",
    "\n",
    "\n",
    "def image_info(image_id, image, show_unique=False):\n",
    "    print(\"Image id:\", image_id)\n",
    "    print(f\"Shape: {image.shape}\")\n",
    "    print(f\"Data type: {image.dtype}\")\n",
    "    print(f\"Min: {image.min()}\")\n",
    "    print(f\"Max: {image.max()}\")\n",
    "    if show_unique:\n",
    "        print(\"Unique values:\", np.unique(image))\n",
    "    print(\"\\n\")\n",
    "\n",
    "\n",
    "def show_images(image_dir, show_unique=False):\n",
    "    image_files = os.listdir(image_dir)[:5]\n",
    "\n",
    "    fig, axes = plt.subplots(1, 5, figsize=(15, 3))\n",
    "    for i, file in enumerate(image_files):\n",
    "        image_path = os.path.join(image_dir, file)\n",
    "        image = plt.imread(image_path)\n",
    "        image_info(i, image, show_unique=show_unique)\n",
    "        axes[i].imshow(image)\n",
    "        axes[i].axis('off')\n",
    "        axes[i].set_title(f\"Image {i+1}\")\n",
    "\n",
    "    plt.show()\n"
   ]
  },
  {
   "cell_type": "code",
   "execution_count": null,
   "metadata": {},
   "outputs": [],
   "source": [
    "for name, dir in image_dirs.items():\n",
    "    print(name + \":\\n\")\n",
    "    show_images(dir)"
   ]
  },
  {
   "cell_type": "code",
   "execution_count": null,
   "metadata": {},
   "outputs": [],
   "source": [
    "\n",
    "N = 3\n",
    "skip = 0\n",
    "raw_files = os.listdir(IMAGE_DIR)[skip:skip+N]\n",
    "seg1_files = os.listdir(SEG1_DIR)[skip:skip+N]\n",
    "seg2_files = os.listdir(SEG2_DIR)[skip:skip+N]\n",
    "\n",
    "\n",
    "def show_similarity(raw_files, seg_files, location1, location2, title):\n",
    "    fig, axes = plt.subplots(3, N, figsize=(15, 6))\n",
    "\n",
    "    for i, (raw_file, segmentation_file) in enumerate(zip(raw_files, seg_files)):\n",
    "        raw_path = os.path.join(location1, raw_file)\n",
    "        segmentation_path = os.path.join(location2, segmentation_file)\n",
    "        raw_image = plt.imread(raw_path)\n",
    "        segmenation_image = plt.imread(segmentation_path)\n",
    "        simmilarity_image = (raw_image == segmenation_image).astype(int)\n",
    "        image_info(i, raw_image)\n",
    "        image_info(i, segmenation_image)\n",
    "        image_info(i, simmilarity_image, show_unique=True)\n",
    "       \n",
    "        fig.suptitle(title, fontsize=16)\n",
    "        axes[0, i].imshow(raw_image)\n",
    "        axes[0, i].axis('off')\n",
    "        axes[0, i].set_title(f\"Raw\")\n",
    "        axes[1, i].imshow(segmenation_image)\n",
    "        axes[1, i].axis('off')\n",
    "        axes[1, i].set_title(f\"Segmentation\")\n",
    "        axes[2, i].imshow(simmilarity_image)\n",
    "        axes[2, i].axis('off')\n",
    "        axes[2, i].set_title(f\"Similarity\")\n",
    "\n",
    "show_similarity(seg1_files, seg2_files, SEG1_DIR, SEG2_DIR, \"Seg1 - Seg2 Similarity\")\n",
    "show_similarity(raw_files, seg1_files, IMAGE_DIR, SEG1_DIR, \"Raw - Seg1 Similarity\")\n",
    "show_similarity(raw_files, seg2_files, IMAGE_DIR, SEG2_DIR, \"Raw - Seg2 Similarity\")\n",
    "\n",
    "\n"
   ]
  },
  {
   "cell_type": "code",
   "execution_count": null,
   "metadata": {},
   "outputs": [],
   "source": [
    "import matplotlib.pyplot as plt\n",
    "\n",
    "def plot_image_channels(image):\n",
    "    # Get the number of channels in the image\n",
    "    num_channels = image.shape[2]\n",
    "\n",
    "    # Create subplots for each channel\n",
    "    fig, axes = plt.subplots(1, num_channels+3, figsize=(15, 3))\n",
    "\n",
    "    # Plot each channel separately\n",
    "    for i in range(num_channels):\n",
    "        channel = image[:, :, i]\n",
    "        axes[i].imshow(channel, cmap='gray')\n",
    "        axes[i].axis('off')\n",
    "        axes[i].set_title(f'Channel {i+1}')\n",
    "    equal_1_2 = cv2.absdiff(image[:, :, 0], image[:, :, 1])\n",
    "    equal_2_3 = cv2.absdiff(image[:, :, 1], image[:, :, 2])\n",
    "    equal_1_3 = cv2.absdiff(image[:, :, 0], image[:, :, 2])\n",
    "    print(f\"Unique differences between channels 1 and 2: {np.unique(equal_1_2)}\")\n",
    "    print(f\"Unique differences between channels 2 and 3: {np.unique(equal_2_3)}\")\n",
    "    print(f\"Unique differences between channels 1 and 3: {np.unique(equal_1_3)}\")\n",
    "    axes[num_channels].imshow(equal_1_2)\n",
    "    axes[num_channels+1].imshow(equal_2_3)\n",
    "    axes[num_channels+2].imshow(equal_1_3)\n",
    "\n",
    "    plt.show()\n",
    "\n",
    "\n"
   ]
  },
  {
   "cell_type": "code",
   "execution_count": null,
   "metadata": {},
   "outputs": [],
   "source": [
    "N = 3\n",
    "skip = 0\n",
    "raw_files = os.listdir(IMAGE_DIR)[skip:skip+N]\n",
    "seg1_files = os.listdir(SEG1_DIR)[skip:skip+N]\n",
    "seg2_files = os.listdir(SEG2_DIR)[skip:skip+N]\n",
    "\n",
    "for source_dir in [IMAGE_DIR, SEG1_DIR, SEG2_DIR]:\n",
    "    print(\"Showing source\", source_dir)\n",
    "    for i, file in enumerate(raw_files):\n",
    "        path = os.path.join(source_dir, file)\n",
    "        image = cv2.imread(path, -1)\n",
    "        image_info(i, image, show_unique=True)"
   ]
  },
  {
   "cell_type": "markdown",
   "metadata": {},
   "source": [
    "### Seems like all images are grayscale, with values of int8. The segmented images basically show where the mandible is."
   ]
  },
  {
   "cell_type": "code",
   "execution_count": null,
   "metadata": {},
   "outputs": [],
   "source": [
    "def show__non_null_pixels(image_dir, show_unique=False):\n",
    "    image_files = os.listdir(image_dir)[:5]\n",
    "\n",
    "    fig, axes = plt.subplots(1, 5, figsize=(15, 3))\n",
    "    for i, file in enumerate(image_files):\n",
    "        image_path = os.path.join(image_dir, file)\n",
    "        image = plt.imread(image_path)\n",
    "        axes[i].imshow(image!=0.0)\n",
    "        axes[i].axis('off')\n",
    "        axes[i].set_title(f\"Image {i+1}\")\n",
    "\n",
    "    plt.show()\n",
    "for name, dir in image_dirs.items():\n",
    "    print(name + \":\\n\")\n",
    "    show_images(dir)\n"
   ]
  }
 ],
 "metadata": {
  "kernelspec": {
   "display_name": "deepdent",
   "language": "python",
   "name": "python3"
  },
  "language_info": {
   "codemirror_mode": {
    "name": "ipython",
    "version": 3
   },
   "file_extension": ".py",
   "mimetype": "text/x-python",
   "name": "python",
   "nbconvert_exporter": "python",
   "pygments_lexer": "ipython3",
   "version": "3.9.13"
  }
 },
 "nbformat": 4,
 "nbformat_minor": 2
}
